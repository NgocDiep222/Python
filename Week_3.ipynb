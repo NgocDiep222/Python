{
  "nbformat": 4,
  "nbformat_minor": 0,
  "metadata": {
    "colab": {
      "provenance": [],
      "authorship_tag": "ABX9TyO2GPlF0T5ow1Pkxb5p39pF",
      "include_colab_link": true
    },
    "kernelspec": {
      "name": "python3",
      "display_name": "Python 3"
    },
    "language_info": {
      "name": "python"
    }
  },
  "cells": [
    {
      "cell_type": "markdown",
      "metadata": {
        "id": "view-in-github",
        "colab_type": "text"
      },
      "source": [
        "<a href=\"https://colab.research.google.com/github/NgocDiep222/Python/blob/main/Week_3.ipynb\" target=\"_parent\"><img src=\"https://colab.research.google.com/assets/colab-badge.svg\" alt=\"Open In Colab\"/></a>"
      ]
    },
    {
      "cell_type": "markdown",
      "source": [
        "1. Tạo 1 tập hợp gồm các phần tử từ 0 đến 99, in chúng ra màn hình"
      ],
      "metadata": {
        "id": "nHiTY1N16UZe"
      }
    },
    {
      "cell_type": "code",
      "source": [
        "my_frozenset = frozenset(range(100))\n",
        "for element in my_frozenset:\n",
        "    print(element)"
      ],
      "metadata": {
        "colab": {
          "base_uri": "https://localhost:8080/"
        },
        "id": "mkgUrhZV6h0S",
        "outputId": "d1a32e4a-b773-49ce-8261-028e67dec7c8"
      },
      "execution_count": 1,
      "outputs": [
        {
          "output_type": "stream",
          "name": "stdout",
          "text": [
            "0\n",
            "1\n",
            "2\n",
            "3\n",
            "4\n",
            "5\n",
            "6\n",
            "7\n",
            "8\n",
            "9\n",
            "10\n",
            "11\n",
            "12\n",
            "13\n",
            "14\n",
            "15\n",
            "16\n",
            "17\n",
            "18\n",
            "19\n",
            "20\n",
            "21\n",
            "22\n",
            "23\n",
            "24\n",
            "25\n",
            "26\n",
            "27\n",
            "28\n",
            "29\n",
            "30\n",
            "31\n",
            "32\n",
            "33\n",
            "34\n",
            "35\n",
            "36\n",
            "37\n",
            "38\n",
            "39\n",
            "40\n",
            "41\n",
            "42\n",
            "43\n",
            "44\n",
            "45\n",
            "46\n",
            "47\n",
            "48\n",
            "49\n",
            "50\n",
            "51\n",
            "52\n",
            "53\n",
            "54\n",
            "55\n",
            "56\n",
            "57\n",
            "58\n",
            "59\n",
            "60\n",
            "61\n",
            "62\n",
            "63\n",
            "64\n",
            "65\n",
            "66\n",
            "67\n",
            "68\n",
            "69\n",
            "70\n",
            "71\n",
            "72\n",
            "73\n",
            "74\n",
            "75\n",
            "76\n",
            "77\n",
            "78\n",
            "79\n",
            "80\n",
            "81\n",
            "82\n",
            "83\n",
            "84\n",
            "85\n",
            "86\n",
            "87\n",
            "88\n",
            "89\n",
            "90\n",
            "91\n",
            "92\n",
            "93\n",
            "94\n",
            "95\n",
            "96\n",
            "97\n",
            "98\n",
            "99\n"
          ]
        }
      ]
    },
    {
      "cell_type": "markdown",
      "source": [
        "2. Tạo một tập hợp gồm các số nguyên lẻ trog khoảng từ 1 đến 199, in chúng ra màn hình"
      ],
      "metadata": {
        "id": "WtU7RCnk60oq"
      }
    },
    {
      "cell_type": "code",
      "source": [
        "odd_numbers = frozenset(range(1, 200, 2))\n",
        "for number in odd_numbers:\n",
        "    print(number)\n",
        ""
      ],
      "metadata": {
        "colab": {
          "base_uri": "https://localhost:8080/"
        },
        "id": "4tT7PPY-66b0",
        "outputId": "20035601-2dea-48c0-ac61-37d9eacedbd6"
      },
      "execution_count": 2,
      "outputs": [
        {
          "output_type": "stream",
          "name": "stdout",
          "text": [
            "1\n",
            "3\n",
            "5\n",
            "7\n",
            "9\n",
            "11\n",
            "13\n",
            "15\n",
            "17\n",
            "19\n",
            "21\n",
            "23\n",
            "25\n",
            "27\n",
            "29\n",
            "31\n",
            "33\n",
            "35\n",
            "37\n",
            "39\n",
            "41\n",
            "43\n",
            "45\n",
            "47\n",
            "49\n",
            "51\n",
            "53\n",
            "55\n",
            "57\n",
            "59\n",
            "61\n",
            "63\n",
            "65\n",
            "67\n",
            "69\n",
            "71\n",
            "73\n",
            "75\n",
            "77\n",
            "79\n",
            "81\n",
            "83\n",
            "85\n",
            "87\n",
            "89\n",
            "91\n",
            "93\n",
            "95\n",
            "97\n",
            "99\n",
            "101\n",
            "103\n",
            "105\n",
            "107\n",
            "109\n",
            "111\n",
            "113\n",
            "115\n",
            "117\n",
            "119\n",
            "121\n",
            "123\n",
            "125\n",
            "127\n",
            "129\n",
            "131\n",
            "133\n",
            "135\n",
            "137\n",
            "139\n",
            "141\n",
            "143\n",
            "145\n",
            "147\n",
            "149\n",
            "151\n",
            "153\n",
            "155\n",
            "157\n",
            "159\n",
            "161\n",
            "163\n",
            "165\n",
            "167\n",
            "169\n",
            "171\n",
            "173\n",
            "175\n",
            "177\n",
            "179\n",
            "181\n",
            "183\n",
            "185\n",
            "187\n",
            "189\n",
            "191\n",
            "193\n",
            "195\n",
            "197\n",
            "199\n"
          ]
        }
      ]
    },
    {
      "cell_type": "markdown",
      "source": [
        "3. Tạo một tập hợp gồm các số nhập vào từ bàn phím (nhập trên 1 dòng, cách nhau bởi ký tự trồng), tìm và in ra số phần tử của tập, GTLN và NN trong tập"
      ],
      "metadata": {
        "id": "eFGIgpgq7AO7"
      }
    },
    {
      "cell_type": "code",
      "source": [
        "input_numbers = input(\"Nhập số: \")\n",
        "number_set = frozenset(map(int, input_numbers.split()))\n",
        "\n",
        "element_count = len(number_set)\n",
        "\n",
        "max_value = max(number_set)\n",
        "min_value = min(number_set)\n",
        "\n",
        "print(\"Số lượng phần tử trong tập:\", element_count)\n",
        "print(\"GTLN trong tập:\", max_value)\n",
        "print(\"GTNN trong tập:\", min_value)\n"
      ],
      "metadata": {
        "colab": {
          "base_uri": "https://localhost:8080/"
        },
        "id": "VUXb42K17Eon",
        "outputId": "76e296fe-42f8-4a73-fc21-a8b4c297ef9b"
      },
      "execution_count": 3,
      "outputs": [
        {
          "output_type": "stream",
          "name": "stdout",
          "text": [
            "Nhập số: 2 3 5 35 75 43 6\n",
            "Số lượng phần tử trong tập: 7\n",
            "GTLN trong tập: 75\n",
            "GTNN trong tập: 2\n"
          ]
        }
      ]
    },
    {
      "cell_type": "markdown",
      "source": [
        "4. Nhập vào từ bàn phím họ và tên đầy đủ của các sinh viên trong lớp, mỗi người trên một dòng. Việc nhập sẽ kết thúc khi người dùng gõ vào dòng trống. Sau đó hãy in ra các họ và tên của sinh viên trong lớp"
      ],
      "metadata": {
        "id": "ivqae0Ee7Rau"
      }
    },
    {
      "cell_type": "code",
      "source": [
        "students_set = frozenset()\n",
        "\n",
        "while True:\n",
        "    student_name = input(\"Họ tên sinh viên: \")\n",
        "    if not student_name:\n",
        "        break\n",
        "\n",
        "    students_set = students_set.union({student_name})\n",
        "\n",
        "print(\"Các họ và tên của sinh viên trong lớp:\")\n",
        "for student in students_set:\n",
        "    print(student)"
      ],
      "metadata": {
        "colab": {
          "base_uri": "https://localhost:8080/"
        },
        "id": "wlvyaHtR7cbT",
        "outputId": "affe6925-4903-4849-9096-dd95f569360d"
      },
      "execution_count": 4,
      "outputs": [
        {
          "output_type": "stream",
          "name": "stdout",
          "text": [
            "Họ tên sinh viên: Phạm Thị Ngọc Diệp\n",
            "Họ tên sinh viên: Hoàng Văn T\n",
            "Họ tên sinh viên: Nguyen thi K\n",
            "Họ tên sinh viên: \n",
            "Các họ và tên của sinh viên trong lớp:\n",
            "Hoàng Văn T\n",
            "Nguyen thi K\n",
            "Phạm Thị Ngọc Diệp\n"
          ]
        }
      ]
    },
    {
      "cell_type": "markdown",
      "source": [
        "5. Nhập số nguyên N, tạo một tập hợp các số nguyên dương d là ước số của N"
      ],
      "metadata": {
        "id": "x08dewCL74_A"
      }
    },
    {
      "cell_type": "code",
      "source": [
        "\n",
        "N = int(input(\"N = \"))\n",
        "\n",
        "divisors_set = frozenset(divisor for divisor in range(1, N + 1) if N % divisor == 0)\n",
        "\n",
        "print(f\"Các số nguyên dương là ước số của {N}:\")\n",
        "for divisor in divisors_set:\n",
        "    print(divisor)\n"
      ],
      "metadata": {
        "colab": {
          "base_uri": "https://localhost:8080/"
        },
        "id": "oD0qBe4978nB",
        "outputId": "94fa30a2-e657-4f4c-a398-3d15313227a2"
      },
      "execution_count": 5,
      "outputs": [
        {
          "output_type": "stream",
          "name": "stdout",
          "text": [
            "N = 3\n",
            "Các số nguyên dương là ước số của 3:\n",
            "1\n",
            "3\n"
          ]
        }
      ]
    },
    {
      "cell_type": "markdown",
      "source": [
        "6. Nhập 2 số nguyên a và b, hãy tạo ra một tập hợp các số d là ước số chung của cả a và b\n"
      ],
      "metadata": {
        "id": "xtRwVqyi8Pt5"
      }
    },
    {
      "cell_type": "code",
      "source": [
        "a = int(input(\"a = \"))\n",
        "b = int(input(\"b = \"))\n",
        "\n",
        "common_divisors_set = frozenset(divisor for divisor in range(1, min(a, b) + 1) if a % divisor == 0 and b % divisor == 0)\n",
        "\n",
        "print(\"Các số nguyên dương là ước số chung của {a} và {b}:\")\n",
        "for divisor in common_divisors_set:\n",
        "    print(divisor)\n"
      ],
      "metadata": {
        "colab": {
          "base_uri": "https://localhost:8080/"
        },
        "id": "TQ3KkbnB8Rh-",
        "outputId": "2a000cc3-ebc5-4900-8761-4b763fb7466e"
      },
      "execution_count": 7,
      "outputs": [
        {
          "output_type": "stream",
          "name": "stdout",
          "text": [
            "a = 23\n",
            "b = 67\n",
            "Các số nguyên dương là ước số chung của {a} và {b}:\n",
            "1\n"
          ]
        }
      ]
    },
    {
      "cell_type": "markdown",
      "source": [
        "7. Nhập một dãy số nguyên từ bàn phím, các số được viết liên tiếp, ngăn cách nhau bởi dấu chấm phẩy (;), hãy đếm xem dãy nhập vào có nhiêu số khác nhau"
      ],
      "metadata": {
        "id": "fZPf36xaycNz"
      }
    },
    {
      "cell_type": "code",
      "source": [
        "# Nhập dãy số nguyên từ người dùng\n",
        "input = input(\"Nhập dãy số: \")\n",
        "\n",
        "numbers_list = [int(num) for num in input.split(';')]\n",
        "unique_numbers_set = frozenset(numbers_list)\n",
        "\n",
        "count_unique_numbers = len(unique_numbers_set)\n",
        "\n",
        "print(\"Số lượng số nguyên khác nhau trong dãy là:\", count_unique_numbers)\n"
      ],
      "metadata": {
        "colab": {
          "base_uri": "https://localhost:8080/"
        },
        "id": "fG3D0SgFyhwE",
        "outputId": "c9c3ade4-2e19-4358-d13e-7032cff5fcf2"
      },
      "execution_count": null,
      "outputs": [
        {
          "output_type": "stream",
          "name": "stdout",
          "text": [
            "Nhập dãy số: 2; 3; 6; 8; 9; 2; 7; 12\n",
            "Số lượng số nguyên khác nhau trong dãy là: 7\n"
          ]
        }
      ]
    },
    {
      "cell_type": "markdown",
      "source": [
        "9. Một công ty có 3 phòng chức năng có dùng thế dùng chung nhân viên và phòng nhân sự, phòng hành chính và phòng truyền thông. Các nhân viên là các số nguyên dương . Hãy thực hiện các việc:"
      ],
      "metadata": {
        "id": "UU7Q9bAD1hZN"
      }
    },
    {
      "cell_type": "code",
      "source": [
        "del input"
      ],
      "metadata": {
        "id": "8JPI2K832WZf"
      },
      "execution_count": null,
      "outputs": []
    },
    {
      "cell_type": "code",
      "source": [
        "# Nhập danh sách mã nhân viên cho từng phòng\n",
        "hr = set(map(int, input(\"Nhập mã nhân viên phòng Nhân sự (cách nhau bởi dấu phẩy): \").split(',')))\n",
        "admin = set(map(int, input(\"Nhập mã nhân viên phòng Hành chính (cách nhau bởi dấu phẩy): \").split(',')))\n",
        "media = set(map(int, input(\"Nhập mã nhân viên phòng Truyền thông (cách nhau bởi dấu phẩy): \").split(',')))\n",
        "\n",
        "# a. Tổng số nhân viên\n",
        "all_employees = hr | admin | media\n",
        "print(\"Tổng số nhân viên trong công ty:\", len(all_employees))\n",
        "\n",
        "# b. In danh sách nhân viên thuộc cả 3 phòng\n",
        "print(\"Danh sách nhân viên của cả 3 phòng:\", sorted(all_employees))\n",
        "\n",
        "# c. In danh sách nhân viên chỉ thuộc 1 phòng\n",
        "distinct_employees = (hr - (admin | media)) | (admin - (hr | media)) | (media - (hr | admin))\n",
        "print(\"Nhân viên chỉ thuộc một phòng:\", sorted(distinct_employees))\n",
        "\n",
        "# d. Tìm nhân viên có trong nhiều hơn một phòng\n",
        "common_employees = (hr & admin) | (admin & media) | (media & hr)\n",
        "print(\"Nhân viên có mặt ở nhiều phòng:\", sorted(common_employees))\n",
        "\n",
        "# e. In nhân viên đầu tiên của mỗi phòng (mã nhỏ nhất)\n",
        "print(\"Nhân viên có mã nhỏ nhất trong mỗi phòng:\")\n",
        "print(\"Nhân sự:\", min(hr) if hr else \"Không có\")\n",
        "print(\"Hành chính:\", min(admin) if admin else \"Không có\")\n",
        "print(\"Truyền thông:\", min(media) if media else \"Không có\")\n"
      ],
      "metadata": {
        "colab": {
          "base_uri": "https://localhost:8080/"
        },
        "id": "DOO366Vt3CYs",
        "outputId": "c52e4ff1-a50c-4303-de78-6a5b6ab05705"
      },
      "execution_count": 8,
      "outputs": [
        {
          "output_type": "stream",
          "name": "stdout",
          "text": [
            "Nhập mã nhân viên phòng Nhân sự (cách nhau bởi dấu phẩy): 1,2,3,4,5,6,7\n",
            "Nhập mã nhân viên phòng Hành chính (cách nhau bởi dấu phẩy): 3,4,5,6,7,8,9\n",
            "Nhập mã nhân viên phòng Truyền thông (cách nhau bởi dấu phẩy): 5,6,8,3,2,1,2\n",
            "Tổng số nhân viên trong công ty: 9\n",
            "Danh sách nhân viên của cả 3 phòng: [1, 2, 3, 4, 5, 6, 7, 8, 9]\n",
            "Nhân viên chỉ thuộc một phòng: [9]\n",
            "Nhân viên có mặt ở nhiều phòng: [1, 2, 3, 4, 5, 6, 7, 8]\n",
            "Nhân viên có mã nhỏ nhất trong mỗi phòng:\n",
            "Nhân sự: 1\n",
            "Hành chính: 3\n",
            "Truyền thông: 1\n"
          ]
        }
      ]
    },
    {
      "cell_type": "markdown",
      "source": [
        "MODULE VÀ PACKAGE\n",
        "\n"
      ],
      "metadata": {
        "id": "qGtCvDj19IFL"
      }
    },
    {
      "cell_type": "markdown",
      "source": [
        "1. Cho một từ điển D định nghĩa cách đọc các chữ số bằng tiếng Anh. Hãy in ra các giá trị (value) của D theo thứ tự tăng dần."
      ],
      "metadata": {
        "id": "da1FJnFH9VyI"
      }
    },
    {
      "cell_type": "code",
      "source": [
        "# Bai1: Cho D là từ điến định nghĩa cách đọc các chữ số ở Tiếng Anh, hãy in ra các value của D theo thứ tự tăng dần\n",
        "\n",
        "D = {\n",
        "    0: 'zero',\n",
        "    1: 'one',\n",
        "    2: 'two',\n",
        "    3: 'three',\n",
        "    4: 'four',\n",
        "    5: 'five',\n",
        "    6: 'six',\n",
        "    7: 'seven',\n",
        "    8: 'eight',\n",
        "    9: 'nine'\n",
        "}\n",
        "\n",
        "for key in sorted(D.keys()):\n",
        "    print(key, ':', D[key])\n"
      ],
      "metadata": {
        "colab": {
          "base_uri": "https://localhost:8080/"
        },
        "id": "S-KTkPvP992m",
        "outputId": "93ee6dff-0fb0-4a57-bb30-8ea18df02717"
      },
      "execution_count": 10,
      "outputs": [
        {
          "output_type": "stream",
          "name": "stdout",
          "text": [
            "0 : zero\n",
            "1 : one\n",
            "2 : two\n",
            "3 : three\n",
            "4 : four\n",
            "5 : five\n",
            "6 : six\n",
            "7 : seven\n",
            "8 : eight\n",
            "9 : nine\n"
          ]
        }
      ]
    },
    {
      "cell_type": "code",
      "source": [
        "# Bai2: Nhập một từ điến D, hãy in ra các value khác nhau trong từ điến.\n",
        "D = eval(input(\"Nhập từ điển D: \"))\n",
        "unique_values = set(D.values())\n",
        "print(\"Các giá trị duy nhất trong từ điển là:\")\n",
        "for value in unique_values:\n",
        "    print(value)"
      ],
      "metadata": {
        "colab": {
          "base_uri": "https://localhost:8080/"
        },
        "id": "03axLR6I_iYv",
        "outputId": "5d5367fe-ba83-4716-f078-39a9d083ad10"
      },
      "execution_count": 11,
      "outputs": [
        {
          "output_type": "stream",
          "name": "stdout",
          "text": [
            "Nhập từ điển D: {'a': 1, 'b': 2, 'c': 3, 'd': 2, 'e': 1}\n",
            "Các giá trị duy nhất trong từ điển là:\n",
            "1\n",
            "2\n",
            "3\n"
          ]
        }
      ]
    },
    {
      "cell_type": "code",
      "source": [
        "# Bai3: Nhập một từ điến D có các value là các số nguyên, hãy in ra màn hinh 3 giá trị value lớn nhất.\n",
        "\n",
        "D = eval(input(\"Nhập từ điển D: \"))\n",
        "values = list(D.values())\n",
        "sorted_values = sorted(values, reverse=True)\n",
        "print(\"Ba giá trị lớn nhất trong từ điển:\")\n",
        "for i in range(3):\n",
        "    print(sorted_values[i])\n"
      ],
      "metadata": {
        "colab": {
          "base_uri": "https://localhost:8080/"
        },
        "id": "rX1hGI6W_pez",
        "outputId": "ddadf5e2-ab2e-44ca-df39-e539a3dfb413"
      },
      "execution_count": 12,
      "outputs": [
        {
          "output_type": "stream",
          "name": "stdout",
          "text": [
            "Nhập từ điển D: {'a': 14, 'b': 15, 'c': 16, 'd': 20}\n",
            "Ba giá trị lớn nhất trong từ điển:\n",
            "20\n",
            "16\n",
            "15\n"
          ]
        }
      ]
    },
    {
      "cell_type": "code",
      "source": [
        "# Bai4: Nhập một string S, hãy tạo từ điến D trong đó key là các chữ xuất hiện trong S còn value tương ứng là số lần xuất hiện các chữ đó trong S\n",
        "\n",
        "S = input(\"Nhập chuỗi S: \")\n",
        "D = {}\n",
        "for char in S:\n",
        "    if char in D:\n",
        "        D[char] += 1\n",
        "    else:\n",
        "        D[char] = 1\n",
        "\n",
        "print(\"Từ điển D:\")\n",
        "print(D)\n"
      ],
      "metadata": {
        "colab": {
          "base_uri": "https://localhost:8080/"
        },
        "id": "G2BSkMYe_wmE",
        "outputId": "80a9c38a-77a6-44e0-e5f2-555a93bb4329"
      },
      "execution_count": 13,
      "outputs": [
        {
          "output_type": "stream",
          "name": "stdout",
          "text": [
            "Nhập chuỗi S: truong toi la truong dai hoc phenikaa\n",
            "Từ điển D:\n",
            "{'t': 3, 'r': 2, 'u': 2, 'o': 4, 'n': 3, 'g': 2, ' ': 6, 'i': 3, 'l': 1, 'a': 4, 'd': 1, 'h': 2, 'c': 1, 'p': 1, 'e': 1, 'k': 1}\n"
          ]
        }
      ]
    },
    {
      "cell_type": "code",
      "source": [
        "# Bai5: Nhập từ điến prices lưu trữ gía của các loại trái cây và từ điến stock lưu trữ số lượng tồn của từng loại. Sau đó hãy in ra thứ tự các loại trái cây còn trong cửa hàng giảm dần theo tổng giá trị của từng loại hàng.\n",
        "\n",
        "prices = eval(input(\"prices: \"))\n",
        "stock = eval(input(\"stock: \"))\n",
        "\n",
        "fruit_values = [(fruit, prices[fruit] * stock.get(fruit, 0)) for fruit in prices]\n",
        "sorted_fruit_values = sorted(fruit_values, key=lambda x: x[1], reverse=True)\n",
        "\n",
        "print(\"Thứ tự các loại trái cây còn trong cửa hàng giảm dần theo tổng giá trị:\")\n",
        "for fruit, value in sorted_fruit_values:\n",
        "    print(f\"{fruit.ljust(7)} {value}\")\n",
        "\n",
        "\n"
      ],
      "metadata": {
        "colab": {
          "base_uri": "https://localhost:8080/"
        },
        "id": "YWdqgwK9_4LH",
        "outputId": "8dfd5be0-894b-4ac8-fef9-091b38db1c3e"
      },
      "execution_count": 14,
      "outputs": [
        {
          "output_type": "stream",
          "name": "stdout",
          "text": [
            "prices: {\"banana\":4, \"apple\":2, \"orange\":1.5, \"pear\":3}\n",
            "stock: {\"banana\":6, \"orange\":32,\"pear\":15}\n",
            "Thứ tự các loại trái cây còn trong cửa hàng giảm dần theo tổng giá trị:\n",
            "orange  48.0\n",
            "pear    45\n",
            "banana  24\n",
            "apple   0\n"
          ]
        }
      ]
    },
    {
      "cell_type": "code",
      "source": [
        "# Bai6: Tạo ra một từ điến lưu lượng mưa trung bình trong các tháng từ năm 2000 đến 2019. Quy cách như sau:\n",
        "# - Từ điến có 12 mục, khóa của mỗi mục là một tháng\n",
        "# - Giá trị ứng với khóa là danh sách 20 số đại diện cho 20 năm\n",
        "# - lượng mưa là số thực ngẫu nhiên từ 100 đến 4000\n",
        "\n",
        "import random\n",
        "rainfall_dictionary = {}\n",
        "for month in range(1, 13):\n",
        "    monthly_rainfall = []\n",
        "    for _ in range(20):\n",
        "        rainfall = random.uniform(100, 4000)\n",
        "        monthly_rainfall.append(rainfall)\n",
        "    rainfall_dictionary[month] = monthly_rainfall\n",
        "print(\"Từ điển lưu lượng mưa trung bình trong các tháng từ năm 2000 đến 2019:\")\n",
        "print(rainfall_dictionary)"
      ],
      "metadata": {
        "colab": {
          "base_uri": "https://localhost:8080/"
        },
        "id": "dbeWsc4gAGgn",
        "outputId": "4c2b59d0-8ebd-41d4-e975-6d8140a3cd09"
      },
      "execution_count": 15,
      "outputs": [
        {
          "output_type": "stream",
          "name": "stdout",
          "text": [
            "Từ điển lưu lượng mưa trung bình trong các tháng từ năm 2000 đến 2019:\n",
            "{1: [2731.621276514054, 2605.3980432100116, 307.22072397276315, 143.8735548097038, 1562.814783347344, 1995.1400602673975, 3741.470222715901, 426.55143640711475, 727.3285077046445, 2106.535644046096, 2322.272813335883, 2855.5615811035264, 3281.3177461734927, 2477.165499090424, 3834.35297427116, 3712.4774530496866, 2159.861074900072, 3800.0106452558625, 1711.145841747444, 2967.7082765649407], 2: [3569.622349740789, 2906.179017705487, 3974.573892420615, 512.3802165409998, 2470.1604139649253, 903.9241686160648, 790.7974116393981, 3393.9082746025188, 484.9083685233312, 2569.743842263654, 284.4341582009525, 3516.5709238692716, 762.9322157415983, 3961.4041314065994, 3309.7981881382975, 1767.1396228545532, 3140.1584617228646, 1718.0175399641976, 2808.5611689130797, 1061.4003580675114], 3: [2264.280522464562, 3182.438282420998, 2968.1478202420953, 288.2853107026042, 3175.7425275601745, 1077.641145093939, 3114.892233975827, 1676.335283910006, 2962.0078528071163, 2775.66601956208, 3740.0907421802544, 1313.6300680232503, 2062.0692381304793, 2313.495288516767, 3008.3196077043413, 3637.470534185766, 1135.9325070580446, 1639.4460393493932, 1562.3627606766634, 2994.2214934488507], 4: [393.1047872739336, 3963.225212550884, 3269.599508866374, 718.233159080645, 2677.9293984885, 1253.7608043093492, 2670.5456041157163, 3569.49297230469, 896.9130544771997, 1765.1434747370504, 3503.491100499968, 3405.7430919809044, 3419.2813995349043, 2621.3944696162366, 533.185995015131, 864.2459989907278, 3314.2311401780353, 3065.089759686579, 663.5507672731517, 1963.0088951996138], 5: [1924.125246807897, 3769.6616134710875, 158.2814682927829, 3531.0065172715613, 1008.131774421523, 1061.2004263511335, 2022.737570828121, 2984.061413542744, 529.1204653535978, 3912.509099241735, 2468.4556655683073, 3581.059845587985, 3495.8995277768545, 2459.5528179374137, 3857.297735970679, 1278.6524233458076, 3415.6706889734864, 3466.500684412909, 599.0554605213304, 658.2756965876596], 6: [751.1674387602611, 1914.123784296992, 3211.211183674353, 488.9907537583685, 692.6639795283834, 2085.742737345624, 1040.3541666710398, 101.4371757764371, 894.9777286229812, 3564.8309194741632, 1130.078580238528, 982.8885786390377, 476.85883025683444, 663.1086247627192, 3669.61225786171, 371.95649326491326, 454.92425314647886, 1125.9437640597505, 1666.9239421388688, 3214.984134934295], 7: [1933.8393403667558, 1887.165787459613, 1023.0112966027586, 2128.7315725113226, 2854.5385560697046, 1870.1821248741044, 3107.554097242665, 2678.290067536347, 1841.193682378747, 1657.666631641608, 627.2649115172128, 3101.1358398995253, 816.2306678397231, 1668.8596020060754, 2910.294113998669, 3205.014098620028, 207.30358931764175, 3083.453878929877, 221.28231968586022, 1156.0344559718417], 8: [2286.4411302816607, 3634.814518335684, 2381.043596263832, 1820.0961535079043, 988.1863000749199, 1922.3560422029902, 1259.2582893928104, 3871.006680013172, 2740.108301760387, 2419.4658365823216, 1115.7626740584255, 2082.2097157140793, 2468.1364314701586, 2825.4452160292917, 570.5976549741106, 2028.027244106184, 929.6919686729914, 1226.586474690029, 136.2312096823609, 716.3254798118112], 9: [2310.545999937533, 3955.297566740722, 266.1416959100851, 2338.3738989548824, 1777.1039167860379, 779.6381362748524, 2491.7724851479907, 2908.6284653251078, 1635.812394308807, 472.8155591100948, 1677.8762078092636, 2736.288407333684, 3618.873421710178, 3702.544536124973, 1003.0303961170268, 1560.2109291650875, 2850.624398273885, 1725.7881684208878, 899.1970354057462, 3671.07269980287], 10: [2601.031262458723, 2276.246087143349, 1944.274986239962, 1821.7276375425463, 1082.1630402258916, 3525.190272387548, 195.95518556281849, 2723.214341729934, 1514.9308196240524, 3336.8207414324625, 1378.1311478195055, 3838.419436417051, 3086.3058497903153, 3856.6431971375887, 3525.9092046641017, 2329.6611252246535, 1927.8800556497417, 1123.3692154007363, 1158.5326017986938, 2532.1415000730976], 11: [1129.053930678506, 3537.6993002919603, 1771.7202606646515, 1387.8441143838875, 385.04651496326704, 3949.2136272262146, 2887.6068254127294, 2361.055116637351, 1396.5294509757925, 332.19090741753155, 3527.8698243879044, 661.109197251533, 685.4330979955461, 3110.7270198597016, 1041.6590256084467, 1882.6628596078135, 631.7880522152618, 1146.6107465698183, 1377.5429210255106, 3957.7173494124454], 12: [3289.7017585442736, 3385.9468825402532, 1009.712163437436, 1667.9031702542911, 841.1336562258819, 3964.954485145054, 2167.0263783857963, 1525.7404424124293, 823.928888619515, 2485.59218223336, 1194.0221941838952, 3319.4356391270535, 2398.9879737724104, 428.6728608726002, 2661.014623730261, 1997.2751843737242, 2815.9029438300727, 1628.5793959814935, 1203.6964646819308, 930.8765654843021]}\n"
          ]
        }
      ]
    },
    {
      "cell_type": "code",
      "source": [
        "# Bai7: Nhập 2 từ điến A có N cặp(key,value) và B có N=M cặp(key, value). Từ A và B hãy tạo từ điến C theo quy tắc sau:\n",
        "# - Một mục trong C thì key phải xuất hiện trong A hoặc B\n",
        "# - Nếu key chỉ xuất hiện trong A hoặc trong B thì value tương ứng trong A (hoặc B)\n",
        "# - Nếu key xuất hiện trong cả A và B thì value là max của value tương ứng trong A và B\n",
        "\n",
        "N = int(input(\"Nhập số lượng cặp key-value cho từ điển A và B: \"))\n",
        "print(\"Nhập từ điển A:\")\n",
        "A = {}\n",
        "for i in range(N):\n",
        "    key = input(\"Nhập key: \")\n",
        "    value = input(\"Nhập value: \")\n",
        "    A[key] = value\n",
        "\n",
        "print(\"Nhập từ điển B:\")\n",
        "B = {}\n",
        "for i in range(N):\n",
        "    key = input(\"Nhập key: \")\n",
        "    value = input(\"Nhập value: \")\n",
        "    B[key] = value\n",
        "\n",
        "C = {}\n",
        "for key in A.keys():\n",
        "    if key in B:\n",
        "        C[key] = max(int(A[key]), int(B[key]))\n",
        "    else:\n",
        "        C[key] = int(A[key])\n",
        "\n",
        "for key in B.keys():\n",
        "    if key not in A:\n",
        "        C[key] = int(B[key])\n",
        "print(\"Từ điển C:\")\n",
        "print(C)\n",
        "1"
      ],
      "metadata": {
        "colab": {
          "base_uri": "https://localhost:8080/"
        },
        "id": "wdwBjauPAQ9M",
        "outputId": "3fdb3844-a270-4067-f105-39e447308071"
      },
      "execution_count": 17,
      "outputs": [
        {
          "output_type": "stream",
          "name": "stdout",
          "text": [
            "Nhập số lượng cặp key-value cho từ điển A và B: 3\n",
            "Nhập từ điển A:\n",
            "Nhập key: monkey\n",
            "Nhập value: 12\n",
            "Nhập key: DOG\n",
            "Nhập value: 35\n",
            "Nhập key: CAT\n",
            "Nhập value: 13\n",
            "Nhập từ điển B:\n",
            "Nhập key: CAT\n",
            "Nhập value: 32\n",
            "Nhập key: DOG\n",
            "Nhập value: 15\n",
            "Nhập key: DUCK\n",
            "Nhập value: 13\n",
            "Từ điển C:\n",
            "{'monkey': 12, 'DOG': 35, 'CAT': 32, 'DUCK': 13}\n"
          ]
        }
      ]
    },
    {
      "cell_type": "markdown",
      "source": [
        "NGOẠI LỆ VÀ XỬ LÝ NGOẠI LỆ"
      ],
      "metadata": {
        "id": "_DqHYo1gFf2M"
      }
    },
    {
      "cell_type": "markdown",
      "source": [
        "1. Viết chương trình yêu cầu người dùng nhập hai số nguyên a và b, sau đó tính và in ra giá trị của phép chia a/b. Chương trình cần xử lý các ngoại lệ sau:\n",
        "\n",
        "    Người dùng nhập a hoặc b không phải là số nguyên.\n",
        "  \n",
        "  Người dùng nhập b = 0 (không thể chia cho 0)."
      ],
      "metadata": {
        "id": "kxPXZ5mDFkNM"
      }
    },
    {
      "cell_type": "code",
      "source": [
        "def divide_numbers():\n",
        "    try:\n",
        "        # Nhập giá trị từ người dùng\n",
        "        a = int(input(\"Nhập số nguyên a: \"))\n",
        "        b = int(input(\"Nhập số nguyên b: \"))\n",
        "\n",
        "        # Kiểm tra b có phải 0 không\n",
        "        if b == 0:\n",
        "            raise ZeroDivisionError(\"Lỗi: Không thể chia cho 0\")\n",
        "\n",
        "        # In kết quả phép chia\n",
        "        print(f\"Kết quả của {a}/{b} = {a / b}\")\n",
        "\n",
        "    except ValueError:\n",
        "        print(\"Lỗi: Vui lòng nhập số nguyên hợp lệ.\")\n",
        "    except ZeroDivisionError as e:\n",
        "        print(e)\n",
        "\n",
        "divide_numbers()\n"
      ],
      "metadata": {
        "colab": {
          "base_uri": "https://localhost:8080/"
        },
        "id": "Jzd8SQYZFydG",
        "outputId": "b0688023-954c-4442-c252-fc6673bad48b"
      },
      "execution_count": null,
      "outputs": [
        {
          "output_type": "stream",
          "name": "stdout",
          "text": [
            "Nhập số nguyên a: 1\n",
            "Nhập số nguyên b: 5\n",
            "Kết quả của 1/5 = 0.2\n"
          ]
        }
      ]
    },
    {
      "cell_type": "markdown",
      "source": [
        "2. Viết chương trình yêu cầu người dùng nhập ba số a, b, c đại diện cho ba cạnh của một tam giác. Chương trình cần xử lý các ngoại lệ sau:\n",
        "\n",
        "  Người dùng nhập a, b hoặc c không phải là số.\n",
        "\n",
        "  Người dùng nhập giá trị 0 hoặc số âm cho a, b hoặc c.\n",
        "\n",
        "  Ba số dương nhưng không thể tạo thành một tam giác hợp lệ.\n",
        "\n"
      ],
      "metadata": {
        "id": "um8AcrbpGEoR"
      }
    },
    {
      "cell_type": "code",
      "source": [
        "def check_triangle():\n",
        "    try:\n",
        "        a, b, c = map(float, input(\"Nhập 3 cạnh a, b, c: \").split())\n",
        "        if min(a, b, c) <= 0 or a + b <= c or a + c <= b or b + c <= a:\n",
        "            raise ValueError(\"Lỗi: Không phải tam giác hợp lệ.\")\n",
        "        print(\"Tam giác đều\" if a == b == c else\n",
        "              \"Tam giác cân\" if a == b or a == c or b == c else\n",
        "              \"Tam giác vuông\" if a*a + b*b == c*c or a*a + c*c == b*b or b*b + c*c == a*a else\n",
        "              \"Tam giác thường\")\n",
        "    except ValueError as e:\n",
        "        print(e)\n",
        "\n",
        "check_triangle()\n"
      ],
      "metadata": {
        "colab": {
          "base_uri": "https://localhost:8080/"
        },
        "id": "c8egFPl5Hgs-",
        "outputId": "2bb39928-5d2b-4a66-8404-6d1644e31a93"
      },
      "execution_count": null,
      "outputs": [
        {
          "output_type": "stream",
          "name": "stdout",
          "text": [
            "Nhập 3 cạnh a, b, c: 4 5 6\n",
            "Tam giác thường\n"
          ]
        }
      ]
    },
    {
      "cell_type": "markdown",
      "source": [
        "3. Viết chương trình cho phép người dùng nhập liên tiếp các số nguyên dương"
      ],
      "metadata": {
        "id": "GrtLpSRqGd7u"
      }
    },
    {
      "cell_type": "code",
      "source": [
        "# Bai3:VIết một chương trình cho phép người dùng nhập liên tiếp các số nguyên dương, yêu cầu:\n",
        "# - VIệc nhập liệu sẽ kết thúc bình thường(không exception)\n",
        "# - Phát sinh exception và thông báo \"Lỗi số âm!!!\" khi người dùng nhập một số nguyên âm bất kỳ\n",
        "# - Phát sinh exception và thông báo \"Lỗi nhập số\" khi người dùng nhập vào chuỗi không phải số nguyên\n",
        "# - Phát sinh exception và thông báo \"Lỗi nhập lặp\" khi người dùng nhập 4 số nguyên dương liên tiếp giống nhau\n",
        "# - Phát sinh exception và thông báo \"Lỗi số âm!!!\" khi người dùng nhập 5 số chẵn liên tiếp\n",
        "# - Sau khi phát sinh exception, xử lý và thông báo, chương trình cần tiếp tục hoạt động như bình thường.\n",
        "try:\n",
        "    consecutive_positive_count = 0\n",
        "    consecutive_even_count = 0\n",
        "    previous_number = None\n",
        "\n",
        "    while True:\n",
        "        num_str = input(\"Nhập một số nguyên dương: \")\n",
        "\n",
        "        # Kiểm tra xem người dùng đã nhập rỗng hay không\n",
        "        if not num_str:\n",
        "            break\n",
        "        num = int(num_str)\n",
        "\n",
        "        # Kiểm tra số nguyên dương\n",
        "        if num <= 0:\n",
        "            raise ValueError(\"Lỗi số âm!!!\")\n",
        "\n",
        "        # Kiểm tra số chẵn\n",
        "        if num % 2 == 0:\n",
        "            consecutive_even_count += 1\n",
        "            if consecutive_even_count == 5:\n",
        "                raise ValueError(\"Lỗi số âm!!!\")\n",
        "        else:\n",
        "            consecutive_even_count = 0\n",
        "\n",
        "        # Kiểm tra số lặp\n",
        "        if num == previous_number:\n",
        "            consecutive_positive_count += 1\n",
        "            if consecutive_positive_count == 4:\n",
        "                raise ValueError(\"Lỗi nhập lặp\")\n",
        "        else:\n",
        "            consecutive_positive_count = 0\n",
        "        previous_number = num\n",
        "\n",
        "except ValueError as ve:\n",
        "    print(\"Đã xảy ra lỗi:\", ve)\n",
        "\n",
        "except Exception as e:\n",
        "    print(\"Đã xảy ra lỗi:\", e)"
      ],
      "metadata": {
        "colab": {
          "base_uri": "https://localhost:8080/"
        },
        "id": "529TQc-QBOF-",
        "outputId": "f925deae-a0ce-4a4e-9e8f-51210ba66205"
      },
      "execution_count": 22,
      "outputs": [
        {
          "output_type": "stream",
          "name": "stdout",
          "text": [
            "Nhập một số nguyên dương: 5\n",
            "Nhập một số nguyên dương: 3\n",
            "Nhập một số nguyên dương: 6\n",
            "Nhập một số nguyên dương: 4\n",
            "Nhập một số nguyên dương: 6\n",
            "Nhập một số nguyên dương: 4\n",
            "Nhập một số nguyên dương: 4\n",
            "Đã xảy ra lỗi: Lỗi số âm!!!\n"
          ]
        }
      ]
    }
  ]
}