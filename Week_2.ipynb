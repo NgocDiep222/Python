{
  "nbformat": 4,
  "nbformat_minor": 0,
  "metadata": {
    "colab": {
      "provenance": [],
      "authorship_tag": "ABX9TyOnYo2ew1bue4Ftoc4exGmp",
      "include_colab_link": true
    },
    "kernelspec": {
      "name": "python3",
      "display_name": "Python 3"
    },
    "language_info": {
      "name": "python"
    }
  },
  "cells": [
    {
      "cell_type": "markdown",
      "metadata": {
        "id": "view-in-github",
        "colab_type": "text"
      },
      "source": [
        "<a href=\"https://colab.research.google.com/github/NgocDiep222/Python/blob/main/Week_2.ipynb\" target=\"_parent\"><img src=\"https://colab.research.google.com/assets/colab-badge.svg\" alt=\"Open In Colab\"/></a>"
      ]
    },
    {
      "cell_type": "markdown",
      "source": [
        "1.Viết hàm is_prime kiểm tra xem N có phải số nguyên tố hay không?\n"
      ],
      "metadata": {
        "id": "UbfE-_nNBDpn"
      }
    },
    {
      "cell_type": "code",
      "source": [
        "def is_prime():\n",
        "  n = int(input(\"n: \"))\n",
        "  x=2\n",
        "  while x<n:\n",
        "    if(n%x)==0:\n",
        "      print(\"n không là số nguyên tố\")\n",
        "      break;\n",
        "    x=x+1\n",
        "  else:\n",
        "    print(\"n là số nguyên tố\")\n",
        "is_prime()"
      ],
      "metadata": {
        "colab": {
          "base_uri": "https://localhost:8080/"
        },
        "id": "qNWpzScn-yY1",
        "outputId": "98bbd49f-aa67-4ca2-b957-26eea7b44a68"
      },
      "execution_count": null,
      "outputs": [
        {
          "output_type": "stream",
          "name": "stdout",
          "text": [
            "n: 5\n",
            "n là số nguyên tố\n"
          ]
        }
      ]
    },
    {
      "cell_type": "markdown",
      "source": [
        "2.Viết chương trình nhập hai số A và B, in ra tất cả các số nguyên tố nằm trong khoảng [A, B]"
      ],
      "metadata": {
        "id": "tg7xAlkR--ap"
      }
    },
    {
      "cell_type": "code",
      "source": [
        "A = int(input(\"A = \"))\n",
        "B = int(input(\"B = \"))\n",
        "\n",
        "def is_prime(num):\n",
        "    if num < 2:\n",
        "        return False\n",
        "    for i in range(2, int(num**0.5) + 1):\n",
        "        if num % i == 0:\n",
        "            return False\n",
        "    return True\n",
        "\n",
        "print(f\"Các số nguyên tố trong khoảng [{A}, {B}]:\")\n",
        "for num in range(A, B + 1):\n",
        "    if is_prime(num):\n",
        "        print(num)"
      ],
      "metadata": {
        "colab": {
          "base_uri": "https://localhost:8080/"
        },
        "id": "dOFXzWzN_EI2",
        "outputId": "df6acc0c-1b15-4cd8-be22-89c87abb0a92"
      },
      "execution_count": null,
      "outputs": [
        {
          "output_type": "stream",
          "name": "stdout",
          "text": [
            "A = 2\n",
            "B = 8\n",
            "Các số nguyên tố trong khoảng [2, 8]:\n",
            "2\n",
            "3\n",
            "5\n",
            "7\n"
          ]
        }
      ]
    },
    {
      "cell_type": "markdown",
      "source": [
        "3.Nhập 2 số nguyên dương A và B, tính và in ra màn hình ước số chung lớn nhất và bội số chung nhỏ nhất của 2 số đó"
      ],
      "metadata": {
        "id": "_NVr7Mux_XMG"
      }
    },
    {
      "cell_type": "code",
      "source": [
        "def gcd(x, y):\n",
        "    while y != 0:\n",
        "        x, y = y, x % y\n",
        "    return x\n",
        "\n",
        "def lcm(x, y):\n",
        "    return x * y // gcd(x, y)\n",
        "\n",
        "def kiemtra():\n",
        "    a = int(input(\"Nhập số nguyên dương A: \"))\n",
        "    b = int(input(\"Nhập số nguyên dương B: \"))\n",
        "    ketqua_gcd = gcd(a, b)\n",
        "    ketqua_lcm = lcm(a, b)\n",
        "    print(\"UCLN:\", ketqua_gcd)\n",
        "    print(\"BCNN\", ketqua_lcm)\n",
        "\n",
        "kiemtra()"
      ],
      "metadata": {
        "colab": {
          "base_uri": "https://localhost:8080/"
        },
        "id": "AaiJsJGu_gnf",
        "outputId": "fe744172-89bd-4c64-d943-24e8c2add8d3"
      },
      "execution_count": null,
      "outputs": [
        {
          "output_type": "stream",
          "name": "stdout",
          "text": [
            "Nhập số nguyên dương A: 2\n",
            "Nhập số nguyên dương B: 7\n",
            "UCLN: 1\n",
            "BCNN 14\n"
          ]
        }
      ]
    },
    {
      "cell_type": "markdown",
      "source": [
        "4.Viết chương trình cho phép người dùng nhập vào liên tiếp một dãy số tự nhiên (không biết trước độ dài). Việc nhập dãy sẽ kết thúc khi người dùng nhập một số âm hoặc 0. Sau khi kết thúc, in ra màn hình ước số chung lớn nhất và bội chung nhỏ nhất của tất cả các số vừa nhập vào"
      ],
      "metadata": {
        "id": "3Zl64cyX_lXF"
      }
    },
    {
      "cell_type": "code",
      "source": [
        "numbers = []\n",
        "\n",
        "def find_gcd(x, y):\n",
        "    while y:\n",
        "        x, y = y, x % y\n",
        "    return x\n",
        "\n",
        "def find_lcm(x, y):\n",
        "    return (x * y) // find_gcd(x, y)\n",
        "\n",
        "while True:\n",
        "    num = int(input(\"Nhập một số tự nhiên (nhập số âm hoặc 0 để kết thúc): \"))\n",
        "    if num <= 0:\n",
        "        break\n",
        "    numbers.append(num)\n",
        "\n",
        "if len(numbers) >= 2:\n",
        "    gcd_result = find_gcd(numbers[0], numbers[1])\n",
        "    lcm_result = find_lcm(numbers[0], numbers[1])\n",
        "\n",
        "    for num in numbers[2:]:\n",
        "        gcd_result = find_gcd(gcd_result, num)\n",
        "        lcm_result = find_lcm(lcm_result, num)\n",
        "\n",
        "    print(\"UCLN\", gcd_result)\n",
        "    print(\"BCNN\", lcm_result)\n",
        "else:\n",
        "    print(\"không tính được\")\n",
        "\n"
      ],
      "metadata": {
        "colab": {
          "base_uri": "https://localhost:8080/"
        },
        "id": "kT-d3Jp0_kXA",
        "outputId": "6f2efa1a-f987-4446-cc11-60fd14d98dac"
      },
      "execution_count": null,
      "outputs": [
        {
          "output_type": "stream",
          "name": "stdout",
          "text": [
            "Nhập một số tự nhiên (nhập số âm hoặc 0 để kết thúc): 7\n",
            "Nhập một số tự nhiên (nhập số âm hoặc 0 để kết thúc): 9\n",
            "Nhập một số tự nhiên (nhập số âm hoặc 0 để kết thúc): 11\n",
            "Nhập một số tự nhiên (nhập số âm hoặc 0 để kết thúc): 15\n",
            "Nhập một số tự nhiên (nhập số âm hoặc 0 để kết thúc): 2\n",
            "Nhập một số tự nhiên (nhập số âm hoặc 0 để kết thúc): 5\n",
            "Nhập một số tự nhiên (nhập số âm hoặc 0 để kết thúc): 0\n",
            "UCLN 1\n",
            "BCNN 6930\n"
          ]
        }
      ]
    },
    {
      "cell_type": "markdown",
      "source": [
        "5. Viết chương trình cho phép người dùng nhập vào liên tiếp một dãy số tự nhiên (không biết trước độ dài). Việc nhập dãy sẽ kết thúc khi người dùng nhập một số âm hoặc 0. Sau khi kết thúc, in ra màn hình số lượng số đã nhập , GTNN và GTLN"
      ],
      "metadata": {
        "id": "AcPmb6Uo_7sg"
      }
    },
    {
      "cell_type": "code",
      "source": [
        "numbers = []\n",
        "\n",
        "while True:\n",
        "    num = int(input(\"Nhập một số tự nhiên (nhập số âm hoặc 0 để kết thúc): \"))\n",
        "    if num <= 0:\n",
        "        break\n",
        "    numbers.append(num)\n",
        "\n",
        "if numbers:\n",
        "    count = len(numbers)\n",
        "    min_value = min(numbers)\n",
        "    max_value = max(numbers)\n",
        "\n",
        "    print(\"Số lượng số đã nhập:\", count)\n",
        "    print(\"GTNN:\", min_value)\n",
        "    print(\"GTLN:\", max_value)\n",
        "else:\n",
        "    print(\"Không có số nào được nhập.\")"
      ],
      "metadata": {
        "colab": {
          "base_uri": "https://localhost:8080/"
        },
        "id": "1HlR0OXHAEF5",
        "outputId": "2fd559c3-0719-4e66-f0ad-e61de7fe0ad5"
      },
      "execution_count": null,
      "outputs": [
        {
          "output_type": "stream",
          "name": "stdout",
          "text": [
            "Nhập một số tự nhiên (nhập số âm hoặc 0 để kết thúc): 5\n",
            "Nhập một số tự nhiên (nhập số âm hoặc 0 để kết thúc): 4\n",
            "Nhập một số tự nhiên (nhập số âm hoặc 0 để kết thúc): 2\n",
            "Nhập một số tự nhiên (nhập số âm hoặc 0 để kết thúc): 7\n",
            "Nhập một số tự nhiên (nhập số âm hoặc 0 để kết thúc): 0\n",
            "Số lượng số đã nhập: 4\n",
            "GTNN: 2\n",
            "GTLN: 7\n"
          ]
        }
      ]
    },
    {
      "cell_type": "markdown",
      "source": [
        "**BÀI TẬP VỀ XỬ LÝ CHUỖI**\n"
      ],
      "metadata": {
        "id": "gMf_mUxnAkiY"
      }
    },
    {
      "cell_type": "markdown",
      "source": [
        "1. Nhập một chuỗi từ bán phím, kiểm tra xem nó có tận cùng bởi 3 dấu chấm than hay không (!!!), nếu không thì hãy thêm dấu chấm than vòa cuối để chuỗi có tận cùng là 3 dấu chấm than"
      ],
      "metadata": {
        "id": "PoaVLkFvBK1J"
      }
    },
    {
      "cell_type": "code",
      "source": [
        "chuoi = input(\"Nhập một chuỗi: \")\n",
        "if not chuoi.endswith(\"!!!\"):\n",
        "    chuoi += \"!!!\"\n",
        "print(\"Chuỗi sau khi kiểm tra:\", chuoi)\n"
      ],
      "metadata": {
        "colab": {
          "base_uri": "https://localhost:8080/"
        },
        "id": "3zRlSjTVBSaa",
        "outputId": "375df8e4-a936-4ecc-eeb5-89dea402c060"
      },
      "execution_count": null,
      "outputs": [
        {
          "output_type": "stream",
          "name": "stdout",
          "text": [
            "Nhập một chuỗi: Tôi học Phenikaa\n",
            "Chuỗi sau khi kiểm tra: Tôi học Phenikaa!!!\n"
          ]
        }
      ]
    },
    {
      "cell_type": "markdown",
      "source": [
        "2. Nhập dãy từ bàn phím (các số được gõ trên cùng một dòng, cách nhau bởi dấu cách hoặc tab), in ra dãy số vừa nhập"
      ],
      "metadata": {
        "id": "SQ3qI99jBlAh"
      }
    },
    {
      "cell_type": "code",
      "source": [
        "chuoi_so = input(\"Nhập dãy số (các số cách nhau bởi dấu cách hoặc tab): \")\n",
        "chuoi_so_list = chuoi_so.split()\n",
        "\n",
        "so_list = [int(x) for x in chuoi_so_list]\n",
        "print(\"Dãy số vừa nhập là:\", so_list)\n"
      ],
      "metadata": {
        "colab": {
          "base_uri": "https://localhost:8080/"
        },
        "id": "HqDCkHmzBoki",
        "outputId": "85e965bb-66be-4b53-e661-804b37e57a86"
      },
      "execution_count": null,
      "outputs": [
        {
          "output_type": "stream",
          "name": "stdout",
          "text": [
            "Nhập dãy số (các số cách nhau bởi dấu cách hoặc tab): 1 2 3 4 5 6 7 8 9 0\n",
            "Dãy số vừa nhập là: [1, 2, 3, 4, 5, 6, 7, 8, 9, 0]\n"
          ]
        }
      ]
    },
    {
      "cell_type": "markdown",
      "source": [
        "3. Nhập một tên người từ bàn phím, hãy tách phần họ và tên riêng của người đá và in chúng ra màn hình"
      ],
      "metadata": {
        "id": "h19q3IysB068"
      }
    },
    {
      "cell_type": "code",
      "source": [
        "ten_nguoi = input(\"Nhập tên người: \")\n",
        "phan_ho, ten_rieng = ten_nguoi.split(maxsplit=1)\n",
        "\n",
        "print(\"Phần họ:\", phan_ho)\n",
        "print(\"Tên riêng:\", ten_rieng)\n"
      ],
      "metadata": {
        "colab": {
          "base_uri": "https://localhost:8080/"
        },
        "id": "_-74mo1mB3uR",
        "outputId": "cbdc8c29-b3f8-4b48-e3eb-a18c4e3244e2"
      },
      "execution_count": null,
      "outputs": [
        {
          "output_type": "stream",
          "name": "stdout",
          "text": [
            "Nhập tên người: Phạm Thị Ngọc Diệp\n",
            "Phần họ: Phạm\n",
            "Tên riêng: Thị Ngọc Diệp\n"
          ]
        }
      ]
    },
    {
      "cell_type": "markdown",
      "source": [
        "4. Nhập một chuỗi từ bàn phím, hãy loại bỏ tất cả các chữ số khỏi chuỗi và in lại nội dung chuỗi mới ra màn hình"
      ],
      "metadata": {
        "id": "ndbFl6LTCDQX"
      }
    },
    {
      "cell_type": "code",
      "source": [
        "chuoi = input(\"Nhập một chuỗi: \")\n",
        "chuoi_moi = ''.join(ky_tu for ky_tu in chuoi if not ky_tu.isdigit())\n",
        "print(\"Chuỗi sau khi loại bỏ chữ số:\", chuoi_moi)\n"
      ],
      "metadata": {
        "colab": {
          "base_uri": "https://localhost:8080/"
        },
        "id": "2ifIPU2ACE9f",
        "outputId": "27657c96-ade3-43e3-9f2b-a05fe06dbbb8"
      },
      "execution_count": null,
      "outputs": [
        {
          "output_type": "stream",
          "name": "stdout",
          "text": [
            "Nhập một chuỗi: tôi yêu trường tôi 1 chút xíu\n",
            "Chuỗi sau khi loại bỏ chữ số: tôi yêu trường tôi  chút xíu\n"
          ]
        }
      ]
    },
    {
      "cell_type": "markdown",
      "source": [
        "5. Nhập mội dãy các từ từ bàn phím, hãy in ra từ dài nhất trong dãy vừa nhấp, in ra mọi từ có cùng độ dài nhất"
      ],
      "metadata": {
        "id": "Yw8F4qmJCW9x"
      }
    },
    {
      "cell_type": "code",
      "source": [
        "day_tu = input(\"Nhập dãy từ (các từ cách nhau bởi dấu cách): \")\n",
        "danh_sach_tu = day_tu.split()\n",
        "\n",
        "do_dai_lon_nhat = max(len(tu) for tu in danh_sach_tu)\n",
        "tu_lon_nhat = [tu for tu in danh_sach_tu if len(tu) == do_dai_lon_nhat]\n",
        "\n",
        "print(\"Từ dài nhất trong dãy là:\", tu_lon_nhat[0])\n",
        "print(\"Mọi từ có cùng độ dài nhất là:\", ', '.join(tu_lon_nhat))\n"
      ],
      "metadata": {
        "colab": {
          "base_uri": "https://localhost:8080/"
        },
        "id": "ePH1bYcMCa3Y",
        "outputId": "3a9a0d1a-a78a-4cd2-9d4b-b8e49dd5bd76"
      },
      "execution_count": null,
      "outputs": [
        {
          "output_type": "stream",
          "name": "stdout",
          "text": [
            "Nhập dãy từ (các từ cách nhau bởi dấu cách): Tôi rất thích em\n",
            "Từ dài nhất trong dãy là: thích\n",
            "Mọi từ có cùng độ dài nhất là: thích\n"
          ]
        }
      ]
    },
    {
      "cell_type": "markdown",
      "source": [
        "6. Nhập một dãy các từ từ bàn phím, thống kê xem có những chữ cái nào xuất hiện trong dãy và mỗi chữ xuất hiện bao nhiêu lần"
      ],
      "metadata": {
        "id": "gCi5DR5ICuZL"
      }
    },
    {
      "cell_type": "code",
      "source": [
        "day_tu = input(\"Nhập dãy từ (các từ cách nhau bởi dấu cách): \")\n",
        "thong_ke_chu_cai = {}\n",
        "\n",
        "for tu in day_tu:\n",
        "    for chu_cai in tu:\n",
        "        if chu_cai.isalpha():\n",
        "            if chu_cai in thong_ke_chu_cai:\n",
        "                thong_ke_chu_cai[chu_cai] += 1\n",
        "            else:\n",
        "                thong_ke_chu_cai[chu_cai] = 1\n",
        "\n",
        "print(\"Thống kê số lần xuất hiện của mỗi chữ cái:\")\n",
        "for chu_cai, so_lan_xuat_hien in thong_ke_chu_cai.items():\n",
        "    print(f\"{chu_cai}: {so_lan_xuat_hien} lần\")\n"
      ],
      "metadata": {
        "colab": {
          "base_uri": "https://localhost:8080/"
        },
        "id": "_H_E7HEYCwVJ",
        "outputId": "f410dca2-4f67-436c-99e9-09303b109ae4"
      },
      "execution_count": null,
      "outputs": [
        {
          "output_type": "stream",
          "name": "stdout",
          "text": [
            "Nhập dãy từ (các từ cách nhau bởi dấu cách): Tôi là Phạm Thị Ngọc Diệp học lớp  cntt2 trường Đại học Phenikaa\n",
            "Thống kê số lần xuất hiện của mỗi chữ cái:\n",
            "T: 2 lần\n",
            "ô: 1 lần\n",
            "i: 4 lần\n",
            "l: 2 lần\n",
            "à: 1 lần\n",
            "P: 2 lần\n",
            "h: 5 lần\n",
            "ạ: 2 lần\n",
            "m: 1 lần\n",
            "ị: 1 lần\n",
            "N: 1 lần\n",
            "g: 2 lần\n",
            "ọ: 3 lần\n",
            "c: 4 lần\n",
            "D: 1 lần\n",
            "ệ: 1 lần\n",
            "p: 2 lần\n",
            "ớ: 1 lần\n",
            "n: 3 lần\n",
            "t: 3 lần\n",
            "r: 1 lần\n",
            "ư: 1 lần\n",
            "ờ: 1 lần\n",
            "Đ: 1 lần\n",
            "e: 1 lần\n",
            "k: 1 lần\n",
            "a: 2 lần\n"
          ]
        }
      ]
    },
    {
      "cell_type": "markdown",
      "source": [
        "7. Nhập chuỗi S gồm toàn chữ số và số nguyên N, chỉ ra cách xóa đúng N kí tự khỏi S để được số có giá trị lớn nhất"
      ],
      "metadata": {
        "id": "jpN_eXm5C__F"
      }
    },
    {
      "cell_type": "code",
      "source": [
        "chuoi_S = input(\"Nhập chuỗi S chứa toàn chữ số: \")\n",
        "N = int(input(\"Nhập số nguyên N: \"))\n",
        "\n",
        "if N >= len(chuoi_S):\n",
        "    print(\"Số kí tự cần xóa lớn hơn hoặc bằng độ dài của chuỗi.\")\n",
        "else:\n",
        "    chuoi_so_list = list(chuoi_S)\n",
        "    chuoi_so_list.sort(reverse=True)\n",
        "    chuoi_so_list = chuoi_so_list[:-N]\n",
        "\n",
        "    ket_qua = ''.join(chuoi_so_list)\n",
        "    print(\"Cách xóa {N} kí tự để được số lớn nhất:\", ket_qua)\n"
      ],
      "metadata": {
        "colab": {
          "base_uri": "https://localhost:8080/"
        },
        "id": "ra2GVhoUDE7W",
        "outputId": "588d0c06-555e-4c9e-c38d-6a7df47d6ee0"
      },
      "execution_count": null,
      "outputs": [
        {
          "output_type": "stream",
          "name": "stdout",
          "text": [
            "Nhập chuỗi S chứa toàn chữ số: 12 34 5 6 32 6 5 22 78 42\n",
            "Nhập số nguyên N: 10\n",
            "Cách xóa {N} kí tự để được số lớn nhất: 876655443322222\n"
          ]
        }
      ]
    },
    {
      "cell_type": "markdown",
      "source": [
        "8. Nhập chuỗi S, hãy thay thế tất cả các chữ sô trong S bằng kí tự hỏi chấm (?), sau đó in lại S ra màn hình"
      ],
      "metadata": {
        "id": "GJ8p3b4JDSUD"
      }
    },
    {
      "cell_type": "code",
      "source": [
        "chuoi_S = input(\"Nhập chuỗi S: \")\n",
        "chuoi_S_moi = ''.join('?' if ky_tu.isdigit() else ky_tu for ky_tu in chuoi_S)\n",
        "print(\"Chuỗi S sau khi thay thế chữ số:\", chuoi_S_moi)\n"
      ],
      "metadata": {
        "colab": {
          "base_uri": "https://localhost:8080/"
        },
        "id": "zF6SG4aIDVTM",
        "outputId": "258d29b9-af65-4972-8a61-d93294f7c736"
      },
      "execution_count": null,
      "outputs": [
        {
          "output_type": "stream",
          "name": "stdout",
          "text": [
            "Nhập chuỗi S:  2024 : new label - CEO 1 2 3 4 \n",
            "Chuỗi S sau khi thay thế chữ số:  ???? : new label - CEO ? ? ? ? \n"
          ]
        }
      ]
    },
    {
      "cell_type": "markdown",
      "source": [
        "9. Nhập chuỗi S, kiểm tra xem chuỗi S có là dạng đối xứng hay không\n"
      ],
      "metadata": {
        "id": "YHhy-VNSDdh5"
      }
    },
    {
      "cell_type": "code",
      "source": [
        "chuoi_S = input(\"Nhập chuỗi S: \")\n",
        "\n",
        "def la_chuoi_doi_xung(chuoi):\n",
        "    chuoi = chuoi.lower()\n",
        "    return chuoi == chuoi[::-1]\n",
        "\n",
        "if la_chuoi_doi_xung(chuoi_S):\n",
        "    print(\"đối xứng.\")\n",
        "else:\n",
        "    print(\"không đối xứng\")\n"
      ],
      "metadata": {
        "colab": {
          "base_uri": "https://localhost:8080/"
        },
        "id": "-VV0CtagDe3f",
        "outputId": "d5d7737e-5027-459e-d6a0-ba14ec7e3fa8"
      },
      "execution_count": null,
      "outputs": [
        {
          "output_type": "stream",
          "name": "stdout",
          "text": [
            "Nhập chuỗi S:  Chúng tôi đều là sinh viên Phenikaa\n",
            "không đối xứng\n"
          ]
        }
      ]
    }
  ]
}