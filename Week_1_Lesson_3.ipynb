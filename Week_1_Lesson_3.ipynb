{
  "nbformat": 4,
  "nbformat_minor": 0,
  "metadata": {
    "colab": {
      "provenance": [],
      "authorship_tag": "ABX9TyMspPTyLdFWbaE//IKsFWO8",
      "include_colab_link": true
    },
    "kernelspec": {
      "name": "python3",
      "display_name": "Python 3"
    },
    "language_info": {
      "name": "python"
    }
  },
  "cells": [
    {
      "cell_type": "markdown",
      "metadata": {
        "id": "view-in-github",
        "colab_type": "text"
      },
      "source": [
        "<a href=\"https://colab.research.google.com/github/NgocDiep222/Python/blob/main/Week_1_Lesson_3.ipynb\" target=\"_parent\"><img src=\"https://colab.research.google.com/assets/colab-badge.svg\" alt=\"Open In Colab\"/></a>"
      ]
    },
    {
      "cell_type": "code",
      "execution_count": null,
      "metadata": {
        "colab": {
          "base_uri": "https://localhost:8080/"
        },
        "id": "kw8i_44Q2-y9",
        "outputId": "27155b16-7d2b-4aa6-f97c-0e85679a91a7"
      },
      "outputs": [
        {
          "output_type": "stream",
          "name": "stdout",
          "text": [
            "A=6\n",
            "B=5\n",
            "C=7\n",
            "phuong trinh vo nghiem\n"
          ]
        }
      ],
      "source": [
        "a = float(input(\"A=\"))\n",
        "b = float(input(\"B=\"))\n",
        "c = float(input(\"C=\"))\n",
        "delta = b*b-4*a*c\n",
        "\n",
        "if delta == 0:\n",
        "  print(\"nghiem kep: x=\", str(-b/2/a))\n",
        "\n",
        "if delta < 0:\n",
        "  print(\"phuong trinh vo nghiem\")\n",
        "\n",
        "if delta > 0:\n",
        "\n",
        "  print(\"x1 = \"+str((-b+delta**0.5)/2/a))\n",
        "  print(\"x2 = \"+str((-b-delta**0.5)/2/a))"
      ]
    },
    {
      "cell_type": "code",
      "source": [
        "def giaithua(n):\n",
        "  gt = 1\n",
        "  for i in range(2, n+1):\n",
        "      gt = gt*i\n",
        "  return gt\n",
        "\n",
        "a = int(input(\"Nhap gia tri n: \"))\n",
        "print(\"N! = \", giaithua(a))"
      ],
      "metadata": {
        "colab": {
          "base_uri": "https://localhost:8080/"
        },
        "id": "-0-kFhjf5df-",
        "outputId": "5a1a7fb2-42a4-4602-c1f7-d4a3a9e1fa1e"
      },
      "execution_count": null,
      "outputs": [
        {
          "output_type": "stream",
          "name": "stdout",
          "text": [
            "Nhap gia tri n: 5\n",
            "N! =  120\n"
          ]
        }
      ]
    },
    {
      "cell_type": "code",
      "source": [
        "a = int(input(\"A= \"))\n",
        "b = int(input(\"B= \"))\n",
        "\n",
        "while(b>0):\n",
        "  if(a>b):\n",
        "    a,b = b,a % b\n",
        "  else:\n",
        "    a,b = a,b % a\n",
        "print(\"UCLN = \",a)"
      ],
      "metadata": {
        "colab": {
          "base_uri": "https://localhost:8080/"
        },
        "id": "rQpbCy1g5hKv",
        "outputId": "9fc60917-c8ef-43e3-ecbc-cccdc72591b8"
      },
      "execution_count": null,
      "outputs": [
        {
          "output_type": "stream",
          "name": "stdout",
          "text": [
            "A= 5\n",
            "B= 8\n",
            "UCLN =  1\n"
          ]
        }
      ]
    },
    {
      "cell_type": "code",
      "source": [
        "def tinh_so_tien(tien_ban_dau, lai_suat, so_nam):\n",
        "  for nam in range(1, so_nam + 1):\n",
        "      tien_ban_dau = tien_ban_dau * (1 + lai_suat / 100)\n",
        "  return tien_ban_dau\n",
        "def bao_nhieu_nam_de_dat_muc_tieu(tien_ban_dau, lai_suat, muc_tieu):\n",
        "    nam = 0\n",
        "    while tien_ban_dau < muc_tieu:\n",
        "        tien_ban_dau = tien_ban_dau * (1 + lai_suat / 100)\n",
        "        nam += 1\n",
        "    return nam\n",
        "\n",
        "tien_ban_dau = 10000000\n",
        "lai_suat = 5.1\n",
        "\n",
        "so_tien_sau_10_nam = tinh_so_tien(tien_ban_dau, lai_suat, 10)\n",
        "print(f\"Sau 10 năm, bạn sẽ có: {round(so_tien_sau_10_nam, 2)} đồng\")\n",
        "\n",
        "muc_tieu = 50000000\n",
        "so_nam_de_dat_muc_tieu = bao_nhieu_nam_de_dat_muc_tieu(tien_ban_dau, lai_suat, muc_tieu)\n",
        "print(f\"Bạn sẽ cần ít nhất {so_nam_de_dat_muc_tieu} năm để có ít nhất {muc_tieu} đồng\")"
      ],
      "metadata": {
        "colab": {
          "base_uri": "https://localhost:8080/"
        },
        "id": "l3faPyyV5mpm",
        "outputId": "0aa838aa-5126-43db-b175-579a8613ec83"
      },
      "execution_count": null,
      "outputs": [
        {
          "output_type": "stream",
          "name": "stdout",
          "text": [
            "Sau 10 năm, bạn sẽ có: 16444745.64 đồng\n",
            "Bạn sẽ cần ít nhất 33 năm để có ít nhất 50000000 đồng\n"
          ]
        }
      ]
    },
    {
      "cell_type": "code",
      "source": [
        "\n",
        "a = int(input(\"Nhập số nguyên a: \"))\n",
        "b = int(input(\"Nhập số nguyên b: \"))\n",
        "\n",
        "result = a ** (1 / b)\n",
        "\n",
        "print(f\"Căn bậc {b} của {a} là: {result}\")"
      ],
      "metadata": {
        "colab": {
          "base_uri": "https://localhost:8080/"
        },
        "id": "NDOMCEYL5rUk",
        "outputId": "8f0ceedc-6c35-4479-b450-6a18b69065b5"
      },
      "execution_count": null,
      "outputs": [
        {
          "output_type": "stream",
          "name": "stdout",
          "text": [
            "Nhập số nguyên a: 5\n",
            "Nhập số nguyên b: 7\n",
            "Căn bậc 7 của 5 là: 1.2584989506418267\n"
          ]
        }
      ]
    },
    {
      "cell_type": "code",
      "source": [
        "x = int(input(\"Nhập số nguyên x: \"))\n",
        "temp_x = abs(x)\n",
        "\n",
        "so_chu_so = 0\n",
        "while temp_x > 0:\n",
        "    so_chu_so += 1\n",
        "    temp_x //= 10\n",
        "\n",
        "print(f\"Số chữ số của {x} là: {so_chu_so}\")\n",
        "\n",
        "if so_chu_so > 0:\n",
        "    chuso_dau_tien = abs(x) // 10 ** (so_chu_so - 1)\n",
        "    print(f\"Chữ số đầu tiên của {x} là: {chuso_dau_tien}\")\n",
        "else:\n",
        "    print(\"Số không có chữ số nào.\")"
      ],
      "metadata": {
        "colab": {
          "base_uri": "https://localhost:8080/"
        },
        "id": "7F_v67On5wto",
        "outputId": "dc7baecc-a95c-4c4e-ef4c-3ba4d711ebb7"
      },
      "execution_count": null,
      "outputs": [
        {
          "output_type": "stream",
          "name": "stdout",
          "text": [
            "Nhập số nguyên x: 9\n",
            "Số chữ số của 9 là: 1\n",
            "Chữ số đầu tiên của 9 là: 9\n"
          ]
        }
      ]
    },
    {
      "cell_type": "markdown",
      "source": [
        "Viết hàm average nhận 5 tham số và trả về giá trị trung bình cộng của chúng"
      ],
      "metadata": {
        "id": "NLAX3W1R70lv"
      }
    },
    {
      "cell_type": "code",
      "source": [
        "def average(a, b, c, d, e):\n",
        "    tong = a + b + c + d + e\n",
        "    trung_binh = tong / 5\n",
        "    return trung_binh\n",
        "a = float(input(\"a =\"))\n",
        "b = float(input(\"b =\"))\n",
        "c = float(input(\"c =\"))\n",
        "d = float(input(\"d =\"))\n",
        "e = float(input(\"e =\"))\n",
        "ket_qua = average(a,b,c,d,e)\n",
        "print(\"Trung bình cộng là:\", ket_qua)"
      ],
      "metadata": {
        "colab": {
          "base_uri": "https://localhost:8080/"
        },
        "id": "yhQ9E9Fk53ca",
        "outputId": "85d17c7a-3dd0-41bc-9f05-c2823d5286ce"
      },
      "execution_count": null,
      "outputs": [
        {
          "output_type": "stream",
          "name": "stdout",
          "text": [
            "a =4\n",
            "b =6\n",
            "c =7\n",
            "d =4\n",
            "e =9\n",
            "Trung bình cộng là: 6.0\n"
          ]
        }
      ]
    },
    {
      "cell_type": "markdown",
      "source": [
        "Viết hàm area trả về diện tích tam giác khi biết độ dài ba cạnh của chúng"
      ],
      "metadata": {
        "id": "kH8Y9aSz769j"
      }
    },
    {
      "cell_type": "code",
      "source": [
        "import math\n",
        "a = float(input(\"a = \"))\n",
        "b = float(input(\"b = \"))\n",
        "c = float(input(\"c = \"))\n",
        "\n",
        "def area(a,b,c):\n",
        "  p = (a+b+c)/2\n",
        "  s = (p*(p-a)*(p-b)*(p-c))**0.5\n",
        "  return s\n",
        "result = area(a, b, c)\n",
        "print(\"dien tich la: \",result)"
      ],
      "metadata": {
        "colab": {
          "base_uri": "https://localhost:8080/"
        },
        "id": "viuq7vwb5_d4",
        "outputId": "abe4d893-8270-411a-825a-bc99359b3226"
      },
      "execution_count": null,
      "outputs": [
        {
          "output_type": "stream",
          "name": "stdout",
          "text": [
            "a = 7\n",
            "b = 8\n",
            "c = 5\n",
            "dien tich la:  17.320508075688775\n"
          ]
        }
      ]
    },
    {
      "cell_type": "markdown",
      "source": [
        "Viết hàm area2 trả về diện tích tam giác biết tọa độ (x, y) của ba đỉnh tam giác"
      ],
      "metadata": {
        "id": "VL8LmBNW8A5-"
      }
    },
    {
      "cell_type": "code",
      "source": [
        "import math\n",
        "x1 = float(input(\"x1 = \"))\n",
        "y1 = float(input(\"y1 = \"))\n",
        "x2 = float(input(\"x2 = \"))\n",
        "y2 = float(input(\"y2 = \"))\n",
        "x3 = float(input(\"x3 = \"))\n",
        "y3 = float(input(\"y3 = \"))\n",
        "\n",
        "def area2(x1,y1,x2,y2,x3,y3):\n",
        "  s=((x2-x1)*(y3-y1)-(x3-x1)*(y2-y1))/2\n",
        "  if(s > 0):\n",
        "    return s\n",
        "  else:\n",
        "    print(\"\")\n",
        "result = area2(x1,y1,x2,y2,x3,y3)\n",
        "print(\"dien tich tam giac la:\", result)"
      ],
      "metadata": {
        "colab": {
          "base_uri": "https://localhost:8080/"
        },
        "id": "SnvwWICi6JoH",
        "outputId": "e846f557-ca61-43fa-bfc4-376ff2b88d38"
      },
      "execution_count": null,
      "outputs": [
        {
          "output_type": "stream",
          "name": "stdout",
          "text": [
            "x1 = 4\n",
            "y1 = 2\n",
            "x2 = 6\n",
            "y2 = 8\n",
            "x3 = 2\n",
            "y3 = 7\n",
            "dien tich tam giac la: 11.0\n"
          ]
        }
      ]
    },
    {
      "cell_type": "markdown",
      "source": [
        "Viết hàm total nhận số nguyên N làm tham số, hàm trả về tổng các chữ số của số N (chẳng hạn N=132 thì hàm total trả về 6)\n"
      ],
      "metadata": {
        "id": "xu5ABtDW8HFx"
      }
    },
    {
      "cell_type": "code",
      "source": [
        "import math\n",
        "def total():\n",
        "  N = int(input(\"N: \"))\n",
        "  str_N = str(N)\n",
        "  sum_digits = sum(int(digit) for digit in str_N)\n",
        "  print(sum_digits)\n",
        "\n",
        "total()"
      ],
      "metadata": {
        "colab": {
          "base_uri": "https://localhost:8080/"
        },
        "id": "RzZF4U8o8Lsz",
        "outputId": "9605fb5b-c64a-42be-b312-95fb6adfbdf3"
      },
      "execution_count": null,
      "outputs": [
        {
          "output_type": "stream",
          "name": "stdout",
          "text": [
            "N: 435\n",
            "12\n"
          ]
        }
      ]
    },
    {
      "cell_type": "markdown",
      "source": [
        "Viết hàm isFibo nhận số nguyên N làm tham số, hàm kiểm tra xem N có phải số fibonacci hay không? Trả về True nếu đúng, ngược lại trả về False"
      ],
      "metadata": {
        "id": "LzBSiBMq8YxE"
      }
    },
    {
      "cell_type": "code",
      "source": [
        "def isFibo(N):\n",
        "    a, b = 0, 1\n",
        "    while a < N:\n",
        "        a, b = b, a + b\n",
        "    return a == N\n",
        "\n",
        "N = int(input(\"N: \"))\n",
        "result = isFibo(N)\n",
        "\n",
        "if result:\n",
        "    print(\"True\")\n",
        "else:\n",
        "    print(\"False\")\n"
      ],
      "metadata": {
        "colab": {
          "base_uri": "https://localhost:8080/"
        },
        "id": "S0erkt9m8Zz4",
        "outputId": "bd2f8019-4ae7-4044-c799-0b071d9fae3a"
      },
      "execution_count": null,
      "outputs": [
        {
          "output_type": "stream",
          "name": "stdout",
          "text": [
            "N: 5\n",
            "True\n"
          ]
        }
      ]
    },
    {
      "cell_type": "markdown",
      "source": [
        "Viết chương trình nhập số nguyên dương N và tính giá trị hàm F(N) dưới đây\n",
        "\n",
        "\n",
        "\n",
        " F(N)=1! + 2! +...+ N!"
      ],
      "metadata": {
        "id": "TPqw9Nkx8iNP"
      }
    },
    {
      "cell_type": "code",
      "source": [
        "N = int(input(\"số nguyên dương N: \"))\n",
        "def tinh_giai_thua(n):\n",
        "    if n == 0 or n == 1:\n",
        "        return 1\n",
        "    else:\n",
        "        return n * tinh_giai_thua(n - 1)\n",
        "\n",
        "def tinh_F(N):\n",
        "    tong = 0\n",
        "    for i in range(1, N + 1):\n",
        "        tong += tinh_giai_thua(i)\n",
        "    return tong\n",
        "\n",
        "ket_qua = tinh_F(N)\n",
        "print(\"Giá trị hàm F({}) là: {}\".format(N, ket_qua))"
      ],
      "metadata": {
        "colab": {
          "base_uri": "https://localhost:8080/"
        },
        "id": "Ulwo43E98mts",
        "outputId": "da8d6a1c-2cfe-4db9-d6af-df09aabc0537"
      },
      "execution_count": null,
      "outputs": [
        {
          "output_type": "stream",
          "name": "stdout",
          "text": [
            "số nguyên dương N: 6\n",
            "Giá trị hàm F(6) là: 873\n"
          ]
        }
      ]
    },
    {
      "cell_type": "markdown",
      "source": [
        "Nhập chương trình nhập điểm trung bình học tập của một sinh viên, sau đó dự trên quy tắc dưới đây và đánh giá kết quả học tập của sinh đó:\n",
        "Điểm dưới 3.5: xếp loại yếu\n",
        "Điểm từ 3.5 đến dưới 5: xếp loại kém\n",
        "Điểm từ 5 đến dưới 6.5: xếp loại trung bình\n",
        "Điểm từ 6.5 đến dưới 8: xếp loại khá\n",
        "Điểm từ 8 đến dưới 9: xếp loại giỏi\n",
        "Điểm từ 9 trở lên: xếp loại xuất sắc"
      ],
      "metadata": {
        "id": "YNWlOLMX8uA4"
      }
    },
    {
      "cell_type": "code",
      "source": [
        "diem_tb = float(input(\"điểm trung bình: \"))\n",
        "\n",
        "if diem_tb < 3.5:\n",
        "    xep_loai = \"Yếu\"\n",
        "elif 3.5 <= diem_tb < 5:\n",
        "    xep_loai = \"Kém\"\n",
        "elif 5 <= diem_tb < 6.5:\n",
        "    xep_loai = \"Trung bình\"\n",
        "elif 6.5 <= diem_tb < 8:\n",
        "    xep_loai = \"Khá\"\n",
        "elif 8 <= diem_tb < 9:\n",
        "    xep_loai = \"Giỏi\"\n",
        "else:\n",
        "    xep_loai = \"Xuất sắc\"\n",
        "\n",
        "print(\"xếp loại:\", xep_loai)\n"
      ],
      "metadata": {
        "colab": {
          "base_uri": "https://localhost:8080/"
        },
        "id": "CEHKcweJ8tRt",
        "outputId": "d587b3a0-6caf-4cf3-98f1-f224ba362c47"
      },
      "execution_count": null,
      "outputs": [
        {
          "output_type": "stream",
          "name": "stdout",
          "text": [
            "điểm trung bình: 8\n",
            "xếp loại: Giỏi\n"
          ]
        }
      ]
    },
    {
      "cell_type": "markdown",
      "source": [
        "Nhập vào từ bàn phím ba số a, b và c. Thực hiện các công việc dưới đây:\n",
        "In ra màn hình giá trị lớn nhất trong ba số\n",
        "Nếu có ít nhất hai số cùng nhận giá trị lớn nhất, in ra giá trị thứ ba còn lại\n"
      ],
      "metadata": {
        "id": "gRZ-v-wZ822a"
      }
    },
    {
      "cell_type": "code",
      "source": [
        "a = float(input(\"a = \"))\n",
        "b = float(input(\"b = \"))\n",
        "c = float(input(\"c = \"))\n",
        "\n",
        "max_value = max(a, b, c)\n",
        "print(\"GTLN\", max_value)"
      ],
      "metadata": {
        "colab": {
          "base_uri": "https://localhost:8080/"
        },
        "id": "mxN0_7ut86c0",
        "outputId": "900c3d8e-bb2f-41c6-f3bb-eaa4c1d8bc6b"
      },
      "execution_count": null,
      "outputs": [
        {
          "output_type": "stream",
          "name": "stdout",
          "text": [
            "a = 4\n",
            "b = 5\n",
            "c = 6\n",
            "GTLN 6.0\n"
          ]
        }
      ]
    },
    {
      "cell_type": "markdown",
      "source": [
        "Nhập vào từ bàn phím thông tin về ngày X, bằng cách nhập ba số nguyên d, m và y lần lượt là giá trị ngày (d) tháng (m) và năm (y) của X. Tính và in ra ngày tiếp sau của X"
      ],
      "metadata": {
        "id": "buDXcKtk9BLP"
      }
    },
    {
      "cell_type": "code",
      "source": [
        "day = int(input(\"d = \"))\n",
        "month = int(input(\"m = \"))\n",
        "year = int(input(\"y = \"))\n",
        "\n",
        "if month in [1, 3, 5, 7, 8, 10, 12]:\n",
        "    max_day = 31\n",
        "elif month in [4, 6, 9, 11]:\n",
        "    max_day = 30\n",
        "else:\n",
        "    if (year % 4 == 0 and year % 100 != 0) or (year % 400 == 0):\n",
        "        max_day = 29\n",
        "    else:\n",
        "        max_day = 28\n",
        "\n",
        "if day < max_day:\n",
        "    d_next = day + 1\n",
        "    m_next = month\n",
        "    y_next = year\n",
        "else:\n",
        "    d_next = 1\n",
        "    if month < 12:\n",
        "        m_next = month + 1\n",
        "        y_next = year\n",
        "    else:\n",
        "        m_next = 1\n",
        "        y_next = year + 1\n",
        "\n",
        "print(f\"Ngày tiếp theo là: {d_next}-{m_next}-{y_next}\")\n"
      ],
      "metadata": {
        "colab": {
          "base_uri": "https://localhost:8080/"
        },
        "id": "rHly5Cjy9Cfv",
        "outputId": "76eed7f5-01db-4259-ff85-53a6a37dee2f"
      },
      "execution_count": null,
      "outputs": [
        {
          "output_type": "stream",
          "name": "stdout",
          "text": [
            "d = 3\n",
            "m = 3\n",
            "y = 2025\n",
            "Ngày tiếp theo là: 4-3-2025\n"
          ]
        }
      ]
    }
  ]
}